{
 "cells": [
  {
   "cell_type": "code",
   "execution_count": 32,
   "metadata": {},
   "outputs": [
    {
     "name": "stdout",
     "output_type": "stream",
     "text": [
      "Error:  500 Internal Server Error\n"
     ]
    }
   ],
   "source": [
    "import requests\n",
    "import json\n",
    "# url = \"https://market-anomaly-detection-backend.onrender.com/predict\"\n",
    "url =\"http://127.0.0.1:8000/predict\"\n",
    "data={\"data\" : \"VIX\"}\n",
    "response = requests.post(url, json=data)\n",
    "if response.status_code == 200:\n",
    "    result = response.json()\n",
    "    print(result)\n",
    "else:\n",
    "    print(\"Error: \", response.status_code, response.text)"
   ]
  }
 ],
 "metadata": {
  "kernelspec": {
   "display_name": "base",
   "language": "python",
   "name": "python3"
  },
  "language_info": {
   "codemirror_mode": {
    "name": "ipython",
    "version": 3
   },
   "file_extension": ".py",
   "mimetype": "text/x-python",
   "name": "python",
   "nbconvert_exporter": "python",
   "pygments_lexer": "ipython3",
   "version": "3.12.4"
  }
 },
 "nbformat": 4,
 "nbformat_minor": 2
}
